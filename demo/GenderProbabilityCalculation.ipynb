{
 "cells": [
  {
   "cell_type": "markdown",
   "metadata": {},
   "source": [
    "# Gender Probability Calculation Example\n",
    "\n",
    "This notebook will demonstrate how the CHILDES corpus is read and how gender probabilities are calculated"
   ]
  },
  {
   "cell_type": "code",
   "execution_count": 1,
   "metadata": {},
   "outputs": [],
   "source": [
    "import pickle\n",
    "import pylangacq as pla\n",
    "from os.path import abspath\n",
    "import matplotlib.pyplot as plt"
   ]
  },
  {
   "cell_type": "markdown",
   "metadata": {},
   "source": [
    "## Reading the CHILDES Corpus\n",
    "First, we read the CHILDES data using the pylangacq library"
   ]
  },
  {
   "cell_type": "code",
   "execution_count": 2,
   "metadata": {},
   "outputs": [],
   "source": [
    "# change this to the relative path to CHIDLES on your computer\n",
    "CHILDES_PATH = \"../../childes/corpora\"\n",
    "\n",
    "# read one conversation with a boy and one with a girl\n",
    "files_to_read = [CHILDES_PATH + \"/Kuczaj/030201.cha\", CHILDES_PATH + \"/Morisset/UCLA/369m36.cha\"]"
   ]
  },
  {
   "cell_type": "code",
   "execution_count": 3,
   "metadata": {},
   "outputs": [],
   "source": [
    "# initialize dictionaries for lists of words\n",
    "cds_words = {\"male\": [], \"female\": []}\n",
    "for file_path in files_to_read:\n",
    "    \n",
    "    chat = pla.read_chat(file_path)\n",
    "    \n",
    "    # get data on the participants of the conversation\n",
    "    participants = chat.participants()[abspath(file_path)]\n",
    "    \n",
    "    child_sex = participants['CHI']['sex']\n",
    "    \n",
    "    # add the speech of all non-child speakers to the relevant list\n",
    "    for p in participants:\n",
    "        if p != \"CHI\":\n",
    "            cds_words[child_sex].extend(chat.words(participant=p))"
   ]
  },
  {
   "cell_type": "markdown",
   "metadata": {},
   "source": [
    "## Gender Probability Calculation\n",
    "The variable cds_words now contains two lists: one list of the words said to a male child and another list of the words said to a female child. From here we can compute gender probability.\n",
    "\n",
    "Gender probability is defined as follows:\n",
    "\n",
    "$$ p(f|w) = \\frac{c(f,w)/c(f)}{c(f,w)/c(f) + c(m,w)/c(m)} $$\n",
    "\n",
    "Where c(g,w) is the number of times word *w* was said to a child of gender *g*"
   ]
  },
  {
   "cell_type": "code",
   "execution_count": 4,
   "metadata": {},
   "outputs": [],
   "source": [
    "# make a list of all the words\n",
    "all_words = list(set(cds_words['male']) | set(cds_words['female']))\n",
    "\n",
    "# initialize dictionaries to count the word occurrences\n",
    "word_counts = {\"male\": {}, \"female\": {}}\n",
    "for word in all_words:\n",
    "    word_counts[\"male\"][word] = 0\n",
    "    word_counts[\"female\"][word] = 0\n",
    "    \n",
    "# count the occurrences of words said to boys and girls in the corpus\n",
    "for gender in (\"male\", \"female\"):\n",
    "    for word in cds_words[gender]:\n",
    "        word_counts[gender][word] += 1\n",
    "        \n",
    "# compute the total number of words said to male and female children\n",
    "total_counts = {}\n",
    "total_counts[\"male\"] = sum([word_counts[\"male\"][word] for word in all_words])\n",
    "total_counts[\"female\"] = sum([word_counts[\"female\"][word] for word in all_words])\n",
    "\n",
    "# compute the gender probability of each word\n",
    "gender_probabilities = {}\n",
    "for word in all_words:\n",
    "    gender_probabilities[word] = (word_counts['female'][word] / total_counts[\"female\"]) / \\\n",
    "        ( (word_counts['female'][word] / total_counts[\"female\"]) + (word_counts['male'][word] / total_counts[\"male\"]) )"
   ]
  },
  {
   "cell_type": "markdown",
   "metadata": {},
   "source": [
    "At this point, a lot of gender probabilities will be either 1 or 0 since we only computed gender probability based on a small subset of the corpus. However, some common words have gender probabilities between 0 and 1. Here are some examples:"
   ]
  },
  {
   "cell_type": "code",
   "execution_count": 5,
   "metadata": {},
   "outputs": [
    {
     "data": {
      "text/plain": [
       "0.8770262716601454"
      ]
     },
     "execution_count": 5,
     "metadata": {},
     "output_type": "execute_result"
    }
   ],
   "source": [
    "gender_probabilities[\"this\"]"
   ]
  },
  {
   "cell_type": "code",
   "execution_count": 6,
   "metadata": {},
   "outputs": [
    {
     "data": {
      "text/plain": [
       "0.4044856921887084"
      ]
     },
     "execution_count": 6,
     "metadata": {},
     "output_type": "execute_result"
    }
   ],
   "source": [
    "gender_probabilities[\"want\"]"
   ]
  },
  {
   "cell_type": "markdown",
   "metadata": {},
   "source": [
    "So the word \"this\" was said to girls 87.7% of the time and the word \"want\" was said to girls 40.4% of the time. Of course, this only uses two transcripts, so it should not be interpreted as indicating a broader trend."
   ]
  },
  {
   "cell_type": "markdown",
   "metadata": {},
   "source": [
    "## Visualizing Gender Probabilities\n",
    "\n",
    "Next, we can plot the gender probabilities of some words along a line. Here is a plot of the gender probabilities of a subset of the words in the transcript we read."
   ]
  },
  {
   "cell_type": "code",
   "execution_count": 7,
   "metadata": {},
   "outputs": [
    {
     "data": {
      "image/png": "[encoded data removed]",
      "text/plain": [
       "<Figure size 432x288 with 1 Axes>"
      ]
     },
     "metadata": {
      "needs_background": "light"
     },
     "output_type": "display_data"
    }
   ],
   "source": [
    "# define a set of words whose gender probabilities to plot\n",
    "words_to_plot = [\"this\", \"want\", \"making\", \"go\", \"how\"]\n",
    "\n",
    "# set the x and y values for the plot\n",
    "x_values = [gender_probabilities[w] for w in words_to_plot]\n",
    "y_values = [0 for _ in words_to_plot]\n",
    "\n",
    "# create and format the scatterplot\n",
    "plt.scatter(x_values, y_values)\n",
    "plt.yticks([])\n",
    "plt.xlabel(\"Gender Probability (p(f|w))\", fontsize=12)\n",
    "plt.title(\"Gender Probabilities of Selected Subset of Words\", fontsize=14)\n",
    "plt.xlim(left=0, right=1)\n",
    "# add each word\n",
    "for i in range(len(words_to_plot)):\n",
    "    plt.text(x_values[i] - 0.03, 0.005, words_to_plot[i])\n",
    "plt.show()"
   ]
  }
 ],
 "metadata": {
  "kernelspec": {
   "display_name": "Python 3",
   "language": "python",
   "name": "python3"
  },
  "language_info": {
   "codemirror_mode": {
    "name": "ipython",
    "version": 3
   },
   "file_extension": ".py",
   "mimetype": "text/x-python",
   "name": "python",
   "nbconvert_exporter": "python",
   "pygments_lexer": "ipython3",
   "version": "3.8.5"
  }
 },
 "nbformat": 4,
 "nbformat_minor": 4
}
