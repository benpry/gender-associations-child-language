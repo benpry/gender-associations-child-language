{
 "cells": [
  {
   "cell_type": "code",
   "execution_count": 1,
   "id": "445ace44",
   "metadata": {},
   "outputs": [],
   "source": [
    "import pandas as pd"
   ]
  },
  {
   "cell_type": "code",
   "execution_count": 10,
   "id": "06b0fe6b",
   "metadata": {},
   "outputs": [],
   "source": [
    "CDS_PATH = \"../../data/whole_corpus/df_cds_agg.csv\"\n",
    "CS_PATH = \"../../data/whole_corpus/df_cs_agg.csv\""
   ]
  },
  {
   "cell_type": "code",
   "execution_count": 11,
   "id": "e3d3e0e4",
   "metadata": {},
   "outputs": [],
   "source": [
    "df_cds = pd.read_csv(CDS_PATH)\n",
    "df_cs = pd.read_csv(CS_PATH)"
   ]
  },
  {
   "cell_type": "code",
   "execution_count": 12,
   "id": "1614bc22",
   "metadata": {},
   "outputs": [
    {
     "data": {
      "text/html": [
       "<div>\n",
       "<style scoped>\n",
       "    .dataframe tbody tr th:only-of-type {\n",
       "        vertical-align: middle;\n",
       "    }\n",
       "\n",
       "    .dataframe tbody tr th {\n",
       "        vertical-align: top;\n",
       "    }\n",
       "\n",
       "    .dataframe thead th {\n",
       "        text-align: right;\n",
       "    }\n",
       "</style>\n",
       "<table border=\"1\" class=\"dataframe\">\n",
       "  <thead>\n",
       "    <tr style=\"text-align: right;\">\n",
       "      <th></th>\n",
       "      <th>Unnamed: 0</th>\n",
       "      <th>word</th>\n",
       "      <th>pfgw</th>\n",
       "      <th>freq</th>\n",
       "      <th>OR</th>\n",
       "      <th>LOR</th>\n",
       "    </tr>\n",
       "  </thead>\n",
       "  <tbody>\n",
       "    <tr>\n",
       "      <th>8754</th>\n",
       "      <td>8754</td>\n",
       "      <td>doll</td>\n",
       "      <td>0.722858</td>\n",
       "      <td>826</td>\n",
       "      <td>2.608703</td>\n",
       "      <td>0.958853</td>\n",
       "    </tr>\n",
       "  </tbody>\n",
       "</table>\n",
       "</div>"
      ],
      "text/plain": [
       "      Unnamed: 0  word      pfgw  freq        OR       LOR\n",
       "8754        8754  doll  0.722858   826  2.608703  0.958853"
      ]
     },
     "execution_count": 12,
     "metadata": {},
     "output_type": "execute_result"
    }
   ],
   "source": [
    "df_cds[df_cds[\"word\"] == \"doll\"]"
   ]
  },
  {
   "cell_type": "code",
   "execution_count": 13,
   "id": "5da0d6a1",
   "metadata": {},
   "outputs": [
    {
     "data": {
      "text/html": [
       "<div>\n",
       "<style scoped>\n",
       "    .dataframe tbody tr th:only-of-type {\n",
       "        vertical-align: middle;\n",
       "    }\n",
       "\n",
       "    .dataframe tbody tr th {\n",
       "        vertical-align: top;\n",
       "    }\n",
       "\n",
       "    .dataframe thead th {\n",
       "        text-align: right;\n",
       "    }\n",
       "</style>\n",
       "<table border=\"1\" class=\"dataframe\">\n",
       "  <thead>\n",
       "    <tr style=\"text-align: right;\">\n",
       "      <th></th>\n",
       "      <th>Unnamed: 0</th>\n",
       "      <th>word</th>\n",
       "      <th>pfgw</th>\n",
       "      <th>freq</th>\n",
       "      <th>OR</th>\n",
       "      <th>LOR</th>\n",
       "    </tr>\n",
       "  </thead>\n",
       "  <tbody>\n",
       "    <tr>\n",
       "      <th>21877</th>\n",
       "      <td>21877</td>\n",
       "      <td>dolly</td>\n",
       "      <td>0.938698</td>\n",
       "      <td>481</td>\n",
       "      <td>15.315554</td>\n",
       "      <td>2.728869</td>\n",
       "    </tr>\n",
       "  </tbody>\n",
       "</table>\n",
       "</div>"
      ],
      "text/plain": [
       "       Unnamed: 0   word      pfgw  freq         OR       LOR\n",
       "21877       21877  dolly  0.938698   481  15.315554  2.728869"
      ]
     },
     "execution_count": 13,
     "metadata": {},
     "output_type": "execute_result"
    }
   ],
   "source": [
    "df_cds[df_cds[\"word\"] == \"dolly\"]"
   ]
  },
  {
   "cell_type": "code",
   "execution_count": 6,
   "id": "56acfaf1",
   "metadata": {},
   "outputs": [
    {
     "data": {
      "text/html": [
       "<div>\n",
       "<style scoped>\n",
       "    .dataframe tbody tr th:only-of-type {\n",
       "        vertical-align: middle;\n",
       "    }\n",
       "\n",
       "    .dataframe tbody tr th {\n",
       "        vertical-align: top;\n",
       "    }\n",
       "\n",
       "    .dataframe thead th {\n",
       "        text-align: right;\n",
       "    }\n",
       "</style>\n",
       "<table border=\"1\" class=\"dataframe\">\n",
       "  <thead>\n",
       "    <tr style=\"text-align: right;\">\n",
       "      <th></th>\n",
       "      <th>Unnamed: 0</th>\n",
       "      <th>word</th>\n",
       "      <th>pfgw</th>\n",
       "      <th>freq</th>\n",
       "      <th>OR</th>\n",
       "      <th>LOR</th>\n",
       "    </tr>\n",
       "  </thead>\n",
       "  <tbody>\n",
       "    <tr>\n",
       "      <th>8289</th>\n",
       "      <td>8289</td>\n",
       "      <td>mom</td>\n",
       "      <td>0.32623</td>\n",
       "      <td>1830</td>\n",
       "      <td>0.483986</td>\n",
       "      <td>-0.725698</td>\n",
       "    </tr>\n",
       "  </tbody>\n",
       "</table>\n",
       "</div>"
      ],
      "text/plain": [
       "      Unnamed: 0 word     pfgw  freq        OR       LOR\n",
       "8289        8289  mom  0.32623  1830  0.483986 -0.725698"
      ]
     },
     "execution_count": 6,
     "metadata": {},
     "output_type": "execute_result"
    }
   ],
   "source": [
    "df_cs[df_cs[\"word\"] == \"mom\"]"
   ]
  },
  {
   "cell_type": "code",
   "execution_count": 7,
   "id": "11f83f05",
   "metadata": {},
   "outputs": [
    {
     "data": {
      "text/html": [
       "<div>\n",
       "<style scoped>\n",
       "    .dataframe tbody tr th:only-of-type {\n",
       "        vertical-align: middle;\n",
       "    }\n",
       "\n",
       "    .dataframe tbody tr th {\n",
       "        vertical-align: top;\n",
       "    }\n",
       "\n",
       "    .dataframe thead th {\n",
       "        text-align: right;\n",
       "    }\n",
       "</style>\n",
       "<table border=\"1\" class=\"dataframe\">\n",
       "  <thead>\n",
       "    <tr style=\"text-align: right;\">\n",
       "      <th></th>\n",
       "      <th>Unnamed: 0</th>\n",
       "      <th>word</th>\n",
       "      <th>pfgw</th>\n",
       "      <th>freq</th>\n",
       "      <th>OR</th>\n",
       "      <th>LOR</th>\n",
       "    </tr>\n",
       "  </thead>\n",
       "  <tbody>\n",
       "    <tr>\n",
       "      <th>9599</th>\n",
       "      <td>9599</td>\n",
       "      <td>mommy</td>\n",
       "      <td>0.567618</td>\n",
       "      <td>4274</td>\n",
       "      <td>1.31326</td>\n",
       "      <td>0.272513</td>\n",
       "    </tr>\n",
       "  </tbody>\n",
       "</table>\n",
       "</div>"
      ],
      "text/plain": [
       "      Unnamed: 0   word      pfgw  freq       OR       LOR\n",
       "9599        9599  mommy  0.567618  4274  1.31326  0.272513"
      ]
     },
     "execution_count": 7,
     "metadata": {},
     "output_type": "execute_result"
    }
   ],
   "source": [
    "df_cs[df_cs[\"word\"] == \"mommy\"]"
   ]
  }
 ],
 "metadata": {
  "kernelspec": {
   "display_name": "Python 3",
   "language": "python",
   "name": "python3"
  },
  "language_info": {
   "codemirror_mode": {
    "name": "ipython",
    "version": 3
   },
   "file_extension": ".py",
   "mimetype": "text/x-python",
   "name": "python",
   "nbconvert_exporter": "python",
   "pygments_lexer": "ipython3",
   "version": "3.8.8"
  }
 },
 "nbformat": 4,
 "nbformat_minor": 5
}
